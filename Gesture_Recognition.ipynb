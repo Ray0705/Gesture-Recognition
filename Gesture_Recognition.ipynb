{
 "cells": [
  {
   "cell_type": "markdown",
   "metadata": {},
   "source": [
    "# Gesture Recognition\n",
    "\n",
    "### Problem Statement\n",
    "A home electronics company which manufactures state of the art smart televisions want to develop a cool feature in the smart-TV that can recognise five different gestures performed by the user which will help users control the TV without using a remote.\n",
    "\n",
    "The gestures are continuously monitored by the webcam mounted on the TV. Each gesture corresponds to a specific command:\n",
    " \n",
    "| Gesture | Corresponding Action |\n",
    "| --- | --- | \n",
    "| Thumbs Up | Increase the volume. |\n",
    "| Thumbs Down | Decrease the volume. |\n",
    "| Left Swipe | 'Jump' backwards 10 seconds. |\n",
    "| Right Swipe | 'Jump' forward 10 seconds. |\n",
    "| Stop | Pause the movie. |\n",
    "\n",
    "Each video is a sequence of 30 frames (or images).\n",
    "\n",
    "**To build a model to recognise above 5 hand gestures.**\n",
    "\n",
    "### Understanding the dataset\n",
    "\n",
    "The training data consists of a few hundred videos categorised into one of the five classes. Each video (typically 2-3 seconds long) is divided into a sequence of 30 frames(images). These videos have been recorded by various people performing one of the five gestures in front of a webcam - similar to what the smart TV will use. \n",
    "\n",
    "All images in a particular video subfolder have the same dimensions but different videos may have different dimensions. Specifically, videos have two types of dimensions - either 360x360 or 120x160 (depending on the webcam used to record the videos). Hence, you will need to do some pre-processing to standardise the videos. \n",
    "\n",
    "Each row of the CSV file represents one video and contains three main pieces of information - the name of the subfolder containing the 30 images of the video, the name of the gesture and the numeric label (between 0-4) of the video.\n",
    "\n",
    "### Objectives:\n",
    "\n",
    "1. **Generator**:  The generator should be able to take a batch of videos as input without any error. Steps like cropping, resizing and normalization should be performed successfully.\n",
    "\n",
    "2. **Model**: Develop a model that is able to train without any errors which will be judged on the total number of parameters (as the inference(prediction) time should be less) and the accuracy achieved. \n",
    "\n",
    "3. **Write up**: This should contain the detailed procedure followed in choosing the final model. The write up should start with the reason for choosing the base model, then highlight the reasons and metrics taken into consideration to modify and experiment to arrive at the final model. "
   ]
  },
  {
   "cell_type": "code",
   "execution_count": 1,
   "metadata": {},
   "outputs": [],
   "source": [
    "import numpy as np\n",
    "import os\n",
    "from imageio import imread\n",
    "from skimage.transform import resize\n",
    "import datetime\n",
    "import os\n",
    "import matplotlib.pyplot as plt\n",
    "import cv2\n",
    "\n",
    "from keras.models import Sequential, Model\n",
    "from keras.layers import Dense, GRU, Flatten, TimeDistributed, Flatten, BatchNormalization, Activation, Dropout,LSTM\n",
    "from keras.layers.convolutional import Conv3D,Conv2D, MaxPooling3D,MaxPooling2D\n",
    "from keras.callbacks import ModelCheckpoint, ReduceLROnPlateau\n",
    "from keras import optimizers\n",
    "from keras.applications.resnet import ResNet50\n",
    "from keras.applications.resnet import preprocess_input\n",
    "from keras.layers.recurrent import LSTM, GRU"
   ]
  },
  {
   "cell_type": "code",
   "execution_count": 2,
   "metadata": {},
   "outputs": [],
   "source": [
    "np.random.seed(30)\n",
    "import random as rn\n",
    "rn.seed(30)\n",
    "from keras import backend as K\n",
    "import tensorflow as tf\n",
    "tf.random.set_seed(30)"
   ]
  },
  {
   "cell_type": "code",
   "execution_count": 3,
   "metadata": {},
   "outputs": [],
   "source": [
    "train_doc = np.random.permutation(open('datasets/Project_data/train.csv').readlines())\n",
    "val_doc = np.random.permutation(open('datasets/Project_data/val.csv').readlines())\n",
    "batch_size = 20 #experiment with the batch size"
   ]
  },
  {
   "cell_type": "markdown",
   "metadata": {},
   "source": [
    "**Building function to plot the result**"
   ]
  },
  {
   "cell_type": "code",
   "execution_count": 4,
   "metadata": {},
   "outputs": [],
   "source": [
    "# function to plot the training/validation accuracies/losses.\n",
    "\n",
    "def plot(history):\n",
    "    fig, axes = plt.subplots(1,2, figsize=(15,4))\n",
    "    axes[0].plot(history.history['loss'])   \n",
    "    axes[0].plot(history.history['val_loss'])\n",
    "    axes[0].legend(['loss','val_loss'])\n",
    "\n",
    "    axes[1].plot(history.history['categorical_accuracy'])   \n",
    "    axes[1].plot(history.history['val_categorical_accuracy'])\n",
    "    axes[1].legend(['categorical_accuracy','val_categorical_accuracy'])"
   ]
  },
  {
   "cell_type": "markdown",
   "metadata": {},
   "source": [
    "## Generator\n",
    "This is one of the most important part of the code. The overall structure of the generator has been given. In the generator, you are going to preprocess the images as you have images of 2 different dimensions as well as create a batch of video frames. You have to experiment with `img_idx`, `y`,`z` and normalization such that you get high accuracy."
   ]
  },
  {
   "cell_type": "code",
   "execution_count": 5,
   "metadata": {},
   "outputs": [],
   "source": [
    "# normalization \n",
    "def image_normalisation(img):\n",
    "    # using min max normalization to get better result\n",
    "    normalized_image= (img - np.min(img))/(np.max(img)- np.min(img))\n",
    "    return normalized_image"
   ]
  },
  {
   "cell_type": "code",
   "execution_count": 6,
   "metadata": {},
   "outputs": [],
   "source": [
    "# Generatot Function \n",
    "def generator(source_path, folder_list, batch_size):\n",
    "    print( 'Source path = ', source_path, '; batch size =', batch_size)\n",
    "    img_idx =[x for x in range(0, 30,2)]  #create a list of image numbers you want to use for a particular video\n",
    "    while True:\n",
    "        t = np.random.permutation(folder_list)\n",
    "        num_batches = len(folder_list)//batch_size # calculate the number of batches\n",
    "        for batch in range(num_batches): # we iterate over the number of batches\n",
    "            batch_data = np.zeros((batch_size,15,120,120,3)) # x is the number of images you use for each video, (y,z) is the final size of the input images and 3 is the number of channels RGB\n",
    "            batch_labels = np.zeros((batch_size,5)) # batch_labels is the one hot representation of the output\n",
    "            for folder in range(batch_size): # iterate over the batch_size\n",
    "                imgs = os.listdir(source_path+'/'+ t[folder + (batch*batch_size)].split(';')[0]) # read all the images in the folder\n",
    "                for idx,item in enumerate(img_idx): #  Iterate iver the frames/images of a folder to read them in\n",
    "                    image = imread(source_path+'/'+ t[folder + (batch*batch_size)].strip().split(';')[0]+'/'+imgs[item]).astype(np.float32)\n",
    "                    \n",
    "                    #crop the images and resize them. Note that the images are of 2 different shape\n",
    "                    #and the conv3D will throw error if the inputs in a batch have different shapes\n",
    "                    resized_image=resize(image, (120,120))\n",
    "                    \n",
    "                    batch_data[folder,idx,:,:,0] = image_normalisation(resized_image[:, : , 0])#normalise and feed in the image\n",
    "                    batch_data[folder,idx,:,:,1] = image_normalisation(resized_image[:, : , 1])#normalise and feed in the image\n",
    "                    batch_data[folder,idx,:,:,2] = image_normalisation(resized_image[:, : , 2])#normalise and feed in the image\n",
    "                    \n",
    "                batch_labels[folder, int(t[folder + (batch*batch_size)].strip().split(';')[2])] = 1\n",
    "            yield batch_data, batch_labels #you yield the batch_data and the batch_labels, remember what does yield do\n",
    "            \n",
    "        # write the code for the remaining data points which are left after full batches\n",
    "        if (len(folder_list) != batch_size*num_batches):\n",
    "            batch_size = len(folder_list) - (batch_size*num_batches)\n",
    "            yield batch_data, batch_labels"
   ]
  },
  {
   "cell_type": "markdown",
   "metadata": {},
   "source": [
    "Note here that a video is represented above in the generator as (number of images, height, width, number of channels). Take this into consideration while creating the model architecture."
   ]
  },
  {
   "cell_type": "code",
   "execution_count": 7,
   "metadata": {},
   "outputs": [
    {
     "name": "stdout",
     "output_type": "stream",
     "text": [
      "# training sequences = 663\n",
      "# validation sequences = 100\n",
      "# epochs = 15\n"
     ]
    }
   ],
   "source": [
    "curr_dt_time = datetime.datetime.now()\n",
    "train_path = 'datasets/Project_data/train'\n",
    "val_path = 'datasets/Project_data/val'\n",
    "num_train_sequences = len(train_doc)\n",
    "print('# training sequences =', num_train_sequences)\n",
    "num_val_sequences = len(val_doc)\n",
    "print('# validation sequences =', num_val_sequences)\n",
    "num_epochs = 15# choose the number of epochs\n",
    "print ('# epochs =', num_epochs)"
   ]
  },
  {
   "cell_type": "markdown",
   "metadata": {},
   "source": [
    "## Model\n",
    "Here you make the model using different functionalities that Keras provides. Remember to use `Conv3D` and `MaxPooling3D` and not `Conv2D` and `Maxpooling2D` for a 3D convolution model. You would want to use `TimeDistributed` while building a Conv2D + RNN model. Also remember that the last layer is the softmax. Design the network in such a way that the model is able to give good accuracy on the least number of parameters so that it can fit in the memory of the webcam."
   ]
  },
  {
   "cell_type": "markdown",
   "metadata": {},
   "source": [
    "## Model - Conv-3D"
   ]
  },
  {
   "cell_type": "code",
   "execution_count": 8,
   "metadata": {},
   "outputs": [
    {
     "name": "stderr",
     "output_type": "stream",
     "text": [
      "2022-06-13 08:06:32.150262: W tensorflow/core/common_runtime/gpu/gpu_bfc_allocator.cc:39] Overriding allow_growth setting because the TF_FORCE_GPU_ALLOW_GROWTH environment variable is set. Original config value was 0.\n",
      "2022-06-13 08:06:32.150331: I tensorflow/core/common_runtime/gpu/gpu_device.cc:1525] Created device /job:localhost/replica:0/task:0/device:GPU:0 with 14803 MB memory:  -> device: 0, name: Quadro RTX 5000, pci bus id: 0000:1e:00.0, compute capability: 7.5\n"
     ]
    }
   ],
   "source": [
    "from keras.models import Sequential, Model\n",
    "from keras.layers import Dense, GRU, Flatten, TimeDistributed, Flatten, BatchNormalization, Activation\n",
    "from keras.layers.convolutional import Conv3D, MaxPooling3D\n",
    "from keras.callbacks import ModelCheckpoint, ReduceLROnPlateau\n",
    "from keras import optimizers\n",
    "\n",
    "#write your model here\n",
    "# Input\n",
    "# input_shape = (frame, height, width, no. of chaanels)\n",
    "input_shape=(15,120,120,3)\n",
    "\n",
    "model3d = Sequential()\n",
    "model3d.add(Conv3D(8,kernel_size=(5,5,5),input_shape=input_shape,padding='same'))\n",
    "model3d.add(Activation('relu'))\n",
    "model3d.add(BatchNormalization())\n",
    "\n",
    "model3d.add(Conv3D(16,kernel_size=(3,3,3),padding='same'))\n",
    "model3d.add(Activation('relu'))\n",
    "model3d.add(BatchNormalization())\n",
    "model3d.add(MaxPooling3D(pool_size=(2,2,2)))\n",
    "\n",
    "model3d.add(Conv3D(32,kernel_size=(1,3,3),padding='same'))\n",
    "model3d.add(Activation('relu'))\n",
    "model3d.add(BatchNormalization())\n",
    "model3d.add(MaxPooling3D(pool_size=(2,2,2)))\n",
    "\n",
    "model3d.add(Dropout(0.25))\n",
    "\n",
    "\n",
    "model3d.add(Flatten())\n",
    "model3d.add(Dense(128, activation='relu'))\n",
    "model3d.add(Dropout(0.2))\n",
    "model3d.add(Dense(64, activation='relu'))\n",
    "#softmax layer\n",
    "model3d.add(Dense(5, activation='softmax'))"
   ]
  },
  {
   "cell_type": "markdown",
   "metadata": {},
   "source": [
    "Now that you have written the model, the next step is to `compile` the model. When you print the `summary` of the model, you'll see the total number of parameters you have to train."
   ]
  },
  {
   "cell_type": "code",
   "execution_count": 9,
   "metadata": {},
   "outputs": [
    {
     "name": "stdout",
     "output_type": "stream",
     "text": [
      "Model: \"sequential\"\n",
      "_________________________________________________________________\n",
      " Layer (type)                Output Shape              Param #   \n",
      "=================================================================\n",
      " conv3d (Conv3D)             (None, 15, 120, 120, 8)   3008      \n",
      "                                                                 \n",
      " activation (Activation)     (None, 15, 120, 120, 8)   0         \n",
      "                                                                 \n",
      " batch_normalization (BatchN  (None, 15, 120, 120, 8)  32        \n",
      " ormalization)                                                   \n",
      "                                                                 \n",
      " conv3d_1 (Conv3D)           (None, 15, 120, 120, 16)  3472      \n",
      "                                                                 \n",
      " activation_1 (Activation)   (None, 15, 120, 120, 16)  0         \n",
      "                                                                 \n",
      " batch_normalization_1 (Batc  (None, 15, 120, 120, 16)  64       \n",
      " hNormalization)                                                 \n",
      "                                                                 \n",
      " max_pooling3d (MaxPooling3D  (None, 7, 60, 60, 16)    0         \n",
      " )                                                               \n",
      "                                                                 \n",
      " conv3d_2 (Conv3D)           (None, 7, 60, 60, 32)     4640      \n",
      "                                                                 \n",
      " activation_2 (Activation)   (None, 7, 60, 60, 32)     0         \n",
      "                                                                 \n",
      " batch_normalization_2 (Batc  (None, 7, 60, 60, 32)    128       \n",
      " hNormalization)                                                 \n",
      "                                                                 \n",
      " max_pooling3d_1 (MaxPooling  (None, 3, 30, 30, 32)    0         \n",
      " 3D)                                                             \n",
      "                                                                 \n",
      " dropout (Dropout)           (None, 3, 30, 30, 32)     0         \n",
      "                                                                 \n",
      " flatten (Flatten)           (None, 86400)             0         \n",
      "                                                                 \n",
      " dense (Dense)               (None, 128)               11059328  \n",
      "                                                                 \n",
      " dropout_1 (Dropout)         (None, 128)               0         \n",
      "                                                                 \n",
      " dense_1 (Dense)             (None, 64)                8256      \n",
      "                                                                 \n",
      " dense_2 (Dense)             (None, 5)                 325       \n",
      "                                                                 \n",
      "=================================================================\n",
      "Total params: 11,079,253\n",
      "Trainable params: 11,079,141\n",
      "Non-trainable params: 112\n",
      "_________________________________________________________________\n",
      "None\n"
     ]
    }
   ],
   "source": [
    "from tensorflow.keras.optimizers import Adam\n",
    "\n",
    "optimiser =Adam(0.001) #write your optimizer\n",
    "model3d.compile(optimizer=optimiser, loss='categorical_crossentropy', metrics=['categorical_accuracy'])\n",
    "print (model3d.summary())"
   ]
  },
  {
   "cell_type": "markdown",
   "metadata": {},
   "source": [
    "Let us create the `train_generator` and the `val_generator` which will be used in `.fit_generator`."
   ]
  },
  {
   "cell_type": "code",
   "execution_count": 10,
   "metadata": {},
   "outputs": [],
   "source": [
    "train_generator = generator(train_path, train_doc, batch_size)\n",
    "val_generator = generator(val_path, val_doc, batch_size)"
   ]
  },
  {
   "cell_type": "code",
   "execution_count": 11,
   "metadata": {},
   "outputs": [
    {
     "name": "stdout",
     "output_type": "stream",
     "text": [
      "WARNING:tensorflow:`period` argument is deprecated. Please use `save_freq` to specify the frequency in number of batches seen.\n",
      "WARNING:tensorflow:`epsilon` argument is deprecated and will be removed, use `min_delta` instead.\n"
     ]
    }
   ],
   "source": [
    "model_name = 'model3d' + '_' + str(curr_dt_time).replace(' ','').replace(':','_') + '/'\n",
    "    \n",
    "if not os.path.exists(model_name):\n",
    "    os.mkdir(model_name)\n",
    "        \n",
    "filepath = model_name + 'model-{epoch:05d}-{loss:.5f}-{categorical_accuracy:.5f}-{val_loss:.5f}-{val_categorical_accuracy:.5f}.h5'\n",
    "\n",
    "checkpoint = ModelCheckpoint(filepath, monitor='val_loss', verbose=1, save_best_only=False, save_weights_only=False, mode='auto', period=1)\n",
    "\n",
    "LR = ReduceLROnPlateau(monitor='val_loss', factor=0.01, patience=5, cooldown=4, verbose=1,mode='auto',epsilon=0.0001)# write the REducelronplateau code here\n",
    "callbacks_list = [checkpoint, LR]"
   ]
  },
  {
   "cell_type": "markdown",
   "metadata": {},
   "source": [
    "The `steps_per_epoch` and `validation_steps` are used by `fit_generator` to decide the number of next() calls it need to make."
   ]
  },
  {
   "cell_type": "code",
   "execution_count": 12,
   "metadata": {},
   "outputs": [],
   "source": [
    "if (num_train_sequences%batch_size) == 0:\n",
    "    steps_per_epoch = int(num_train_sequences/batch_size)\n",
    "else:\n",
    "    steps_per_epoch = (num_train_sequences//batch_size) + 1\n",
    "\n",
    "if (num_val_sequences%batch_size) == 0:\n",
    "    validation_steps = int(num_val_sequences/batch_size)\n",
    "else:\n",
    "    validation_steps = (num_val_sequences//batch_size) + 1"
   ]
  },
  {
   "cell_type": "markdown",
   "metadata": {},
   "source": [
    "Let us now fit the model. This will start training the model and with the help of the checkpoints, you'll be able to save the model at the end of each epoch."
   ]
  },
  {
   "cell_type": "code",
   "execution_count": 13,
   "metadata": {},
   "outputs": [
    {
     "name": "stderr",
     "output_type": "stream",
     "text": [
      "/tmp/ipykernel_744/2529974850.py:1: UserWarning: `Model.fit_generator` is deprecated and will be removed in a future version. Please use `Model.fit`, which supports generators.\n",
      "  history = model3d.fit_generator(train_generator, steps_per_epoch=steps_per_epoch, epochs=num_epochs, verbose=1,\n"
     ]
    },
    {
     "name": "stdout",
     "output_type": "stream",
     "text": [
      "Source path =  datasets/Project_data/train ; batch size = 20\n",
      "Epoch 1/15\n"
     ]
    },
    {
     "name": "stderr",
     "output_type": "stream",
     "text": [
      "2022-06-13 08:06:35.839805: I tensorflow/stream_executor/cuda/cuda_dnn.cc:377] Loaded cuDNN version 8302\n"
     ]
    },
    {
     "name": "stdout",
     "output_type": "stream",
     "text": [
      "34/34 [==============================] - ETA: 0s - loss: 6.8089 - categorical_accuracy: 0.3588Source path =  datasets/Project_data/val ; batch size = 20\n",
      "\n",
      "Epoch 00001: saving model to model3d_2022-06-1308_06_30.333760/model-00001-6.80887-0.35882-8.12269-0.23000.h5\n",
      "34/34 [==============================] - 87s 2s/step - loss: 6.8089 - categorical_accuracy: 0.3588 - val_loss: 8.1227 - val_categorical_accuracy: 0.2300 - lr: 0.0010\n",
      "Epoch 2/15\n",
      "34/34 [==============================] - ETA: 0s - loss: 4.4290 - categorical_accuracy: 0.3627\n",
      "Epoch 00002: saving model to model3d_2022-06-1308_06_30.333760/model-00002-4.42903-0.36275-3.47749-0.39000.h5\n",
      "34/34 [==============================] - 27s 806ms/step - loss: 4.4290 - categorical_accuracy: 0.3627 - val_loss: 3.4775 - val_categorical_accuracy: 0.3900 - lr: 0.0010\n",
      "Epoch 3/15\n",
      "34/34 [==============================] - ETA: 0s - loss: 4.4854 - categorical_accuracy: 0.3529\n",
      "Epoch 00003: saving model to model3d_2022-06-1308_06_30.333760/model-00003-4.48541-0.35294-6.50647-0.32000.h5\n",
      "34/34 [==============================] - 27s 815ms/step - loss: 4.4854 - categorical_accuracy: 0.3529 - val_loss: 6.5065 - val_categorical_accuracy: 0.3200 - lr: 0.0010\n",
      "Epoch 4/15\n",
      "34/34 [==============================] - ETA: 0s - loss: 5.6945 - categorical_accuracy: 0.2941\n",
      "Epoch 00004: saving model to model3d_2022-06-1308_06_30.333760/model-00004-5.69453-0.29412-6.28552-0.33000.h5\n",
      "34/34 [==============================] - 27s 814ms/step - loss: 5.6945 - categorical_accuracy: 0.2941 - val_loss: 6.2855 - val_categorical_accuracy: 0.3300 - lr: 0.0010\n",
      "Epoch 5/15\n",
      "34/34 [==============================] - ETA: 0s - loss: 4.1882 - categorical_accuracy: 0.3824\n",
      "Epoch 00005: saving model to model3d_2022-06-1308_06_30.333760/model-00005-4.18824-0.38235-9.83068-0.32000.h5\n",
      "34/34 [==============================] - 26s 776ms/step - loss: 4.1882 - categorical_accuracy: 0.3824 - val_loss: 9.8307 - val_categorical_accuracy: 0.3200 - lr: 0.0010\n",
      "Epoch 6/15\n",
      "34/34 [==============================] - ETA: 0s - loss: 3.4769 - categorical_accuracy: 0.3333\n",
      "Epoch 00006: saving model to model3d_2022-06-1308_06_30.333760/model-00006-3.47690-0.33333-1.60046-0.28000.h5\n",
      "34/34 [==============================] - 27s 809ms/step - loss: 3.4769 - categorical_accuracy: 0.3333 - val_loss: 1.6005 - val_categorical_accuracy: 0.2800 - lr: 0.0010\n",
      "Epoch 7/15\n",
      "34/34 [==============================] - ETA: 0s - loss: 1.6888 - categorical_accuracy: 0.3333\n",
      "Epoch 00007: saving model to model3d_2022-06-1308_06_30.333760/model-00007-1.68884-0.33333-1.50123-0.27000.h5\n",
      "34/34 [==============================] - 27s 820ms/step - loss: 1.6888 - categorical_accuracy: 0.3333 - val_loss: 1.5012 - val_categorical_accuracy: 0.2700 - lr: 0.0010\n",
      "Epoch 8/15\n",
      "34/34 [==============================] - ETA: 0s - loss: 1.6132 - categorical_accuracy: 0.3824\n",
      "Epoch 00008: saving model to model3d_2022-06-1308_06_30.333760/model-00008-1.61315-0.38235-1.61659-0.25000.h5\n",
      "34/34 [==============================] - 25s 749ms/step - loss: 1.6132 - categorical_accuracy: 0.3824 - val_loss: 1.6166 - val_categorical_accuracy: 0.2500 - lr: 0.0010\n",
      "Epoch 9/15\n",
      "34/34 [==============================] - ETA: 0s - loss: 1.6751 - categorical_accuracy: 0.2745\n",
      "Epoch 00009: saving model to model3d_2022-06-1308_06_30.333760/model-00009-1.67513-0.27451-1.51049-0.32000.h5\n",
      "34/34 [==============================] - 25s 755ms/step - loss: 1.6751 - categorical_accuracy: 0.2745 - val_loss: 1.5105 - val_categorical_accuracy: 0.3200 - lr: 0.0010\n",
      "Epoch 10/15\n",
      "34/34 [==============================] - ETA: 0s - loss: 1.5963 - categorical_accuracy: 0.3529\n",
      "Epoch 00010: saving model to model3d_2022-06-1308_06_30.333760/model-00010-1.59633-0.35294-1.49589-0.27000.h5\n",
      "34/34 [==============================] - 27s 807ms/step - loss: 1.5963 - categorical_accuracy: 0.3529 - val_loss: 1.4959 - val_categorical_accuracy: 0.2700 - lr: 0.0010\n",
      "Epoch 11/15\n",
      "34/34 [==============================] - ETA: 0s - loss: 1.8327 - categorical_accuracy: 0.2647\n",
      "Epoch 00011: saving model to model3d_2022-06-1308_06_30.333760/model-00011-1.83273-0.26471-1.62178-0.37000.h5\n",
      "34/34 [==============================] - 26s 774ms/step - loss: 1.8327 - categorical_accuracy: 0.2647 - val_loss: 1.6218 - val_categorical_accuracy: 0.3700 - lr: 0.0010\n",
      "Epoch 12/15\n",
      "34/34 [==============================] - ETA: 0s - loss: 1.7575 - categorical_accuracy: 0.2647\n",
      "Epoch 00012: saving model to model3d_2022-06-1308_06_30.333760/model-00012-1.75748-0.26471-2.43863-0.23000.h5\n",
      "34/34 [==============================] - 27s 828ms/step - loss: 1.7575 - categorical_accuracy: 0.2647 - val_loss: 2.4386 - val_categorical_accuracy: 0.2300 - lr: 0.0010\n",
      "Epoch 13/15\n",
      "34/34 [==============================] - ETA: 0s - loss: 1.5260 - categorical_accuracy: 0.3725\n",
      "Epoch 00013: saving model to model3d_2022-06-1308_06_30.333760/model-00013-1.52598-0.37255-1.57304-0.39000.h5\n",
      "34/34 [==============================] - 26s 780ms/step - loss: 1.5260 - categorical_accuracy: 0.3725 - val_loss: 1.5730 - val_categorical_accuracy: 0.3900 - lr: 0.0010\n",
      "Epoch 14/15\n",
      "34/34 [==============================] - ETA: 0s - loss: 1.4529 - categorical_accuracy: 0.3824\n",
      "Epoch 00014: saving model to model3d_2022-06-1308_06_30.333760/model-00014-1.45291-0.38235-1.65184-0.45000.h5\n",
      "34/34 [==============================] - 26s 800ms/step - loss: 1.4529 - categorical_accuracy: 0.3824 - val_loss: 1.6518 - val_categorical_accuracy: 0.4500 - lr: 0.0010\n",
      "Epoch 15/15\n",
      "34/34 [==============================] - ETA: 0s - loss: 1.4770 - categorical_accuracy: 0.3235\n",
      "Epoch 00015: saving model to model3d_2022-06-1308_06_30.333760/model-00015-1.47702-0.32353-1.48446-0.31000.h5\n",
      "34/34 [==============================] - 25s 771ms/step - loss: 1.4770 - categorical_accuracy: 0.3235 - val_loss: 1.4845 - val_categorical_accuracy: 0.3100 - lr: 0.0010\n"
     ]
    }
   ],
   "source": [
    "history = model3d.fit_generator(train_generator, steps_per_epoch=steps_per_epoch, epochs=num_epochs, verbose=1, \n",
    "                    callbacks=callbacks_list, validation_data=val_generator, \n",
    "                    validation_steps=validation_steps, class_weight=None, workers=1, initial_epoch=0)"
   ]
  },
  {
   "cell_type": "code",
   "execution_count": 14,
   "metadata": {},
   "outputs": [
    {
     "data": {
      "image/png": "[encoded data removed]",
      "text/plain": [
       "<Figure size 1080x288 with 2 Axes>"
      ]
     },
     "metadata": {
      "needs_background": "light"
     },
     "output_type": "display_data"
    }
   ],
   "source": [
    "plot(history)"
   ]
  },
  {
   "cell_type": "markdown",
   "metadata": {},
   "source": [
    "We can observe that the training accuracy is around 32% and validation accuracy is around 31%. Let's try with CNN and RNN to check whether the accuracy is increasing or not. "
   ]
  },
  {
   "cell_type": "markdown",
   "metadata": {},
   "source": [
    "## Model 2 - CNN + RNN"
   ]
  },
  {
   "cell_type": "code",
   "execution_count": 15,
   "metadata": {},
   "outputs": [
    {
     "name": "stdout",
     "output_type": "stream",
     "text": [
      "# training sequences = 663\n",
      "# validation sequences = 100\n",
      "# epochs = 15\n"
     ]
    }
   ],
   "source": [
    "# to create a new different folder for different model\n",
    "curr_dt_time = datetime.datetime.now()\n",
    "train_path = 'datasets/Project_data/train'\n",
    "val_path = 'datasets/Project_data/val'\n",
    "num_train_sequences = len(train_doc)\n",
    "print('# training sequences =', num_train_sequences)\n",
    "num_val_sequences = len(val_doc)\n",
    "print('# validation sequences =', num_val_sequences)\n",
    "num_epochs = 15# choose the number of epochs\n",
    "print ('# epochs =', num_epochs)"
   ]
  },
  {
   "cell_type": "code",
   "execution_count": 16,
   "metadata": {},
   "outputs": [],
   "source": [
    "from keras.models import Sequential, Model\n",
    "from keras.layers import Dense, GRU, Flatten, TimeDistributed, Flatten, BatchNormalization, Activation, Dropout,LSTM\n",
    "from keras.layers.convolutional import Conv3D,Conv2D, MaxPooling3D,MaxPooling2D\n",
    "from keras.callbacks import ModelCheckpoint, ReduceLROnPlateau\n",
    "from keras import optimizers\n",
    "from keras.layers.recurrent import LSTM, GRU\n",
    "\n",
    "# Input\n",
    "# input_shape = (frame, height, width, no. of chaanels)\n",
    "input_shape=(15,120,120,3)\n",
    "\n",
    "model_cnn_rnn = Sequential()\n",
    "\n",
    "model_cnn_rnn.add(TimeDistributed(Conv2D(8, (3, 3), strides=(2, 2),activation='relu', padding='same'), input_shape=input_shape))\n",
    "model_cnn_rnn.add(TimeDistributed(Conv2D(16, (3,3),padding='same', activation='relu')))\n",
    "model_cnn_rnn.add(TimeDistributed(MaxPooling2D((2, 2), strides=(2, 2))))\n",
    "\n",
    "model_cnn_rnn.add(TimeDistributed(Conv2D(32, (3,3),padding='same', activation='relu')))\n",
    "model_cnn_rnn.add(TimeDistributed(MaxPooling2D((2, 2), strides=(2, 2))))\n",
    "\n",
    "model_cnn_rnn.add(TimeDistributed(Conv2D(64, (2,2),padding='same', activation='relu')))\n",
    "model_cnn_rnn.add(TimeDistributed(MaxPooling2D((2, 2), strides=(2, 2))))\n",
    "\n",
    "model_cnn_rnn.add(TimeDistributed(BatchNormalization()))\n",
    "model_cnn_rnn.add(Dropout(0.25))\n",
    "\n",
    "model_cnn_rnn.add(TimeDistributed(Flatten()))\n",
    "\n",
    "model_cnn_rnn.add(Dense(128, activation='relu'))\n",
    "model_cnn_rnn.add(Dropout(0.2))\n",
    "model_cnn_rnn.add(Dense(64, activation='relu'))\n",
    "model_cnn_rnn.add(Dropout(0.2))\n",
    "\n",
    "model_cnn_rnn.add(GRU(128, return_sequences=False))\n",
    "model_cnn_rnn.add(Dense(5, activation='softmax')) # using Softmax as last layer"
   ]
  },
  {
   "cell_type": "code",
   "execution_count": 17,
   "metadata": {},
   "outputs": [
    {
     "name": "stdout",
     "output_type": "stream",
     "text": [
      "Model: \"sequential_1\"\n",
      "_________________________________________________________________\n",
      " Layer (type)                Output Shape              Param #   \n",
      "=================================================================\n",
      " time_distributed (TimeDistr  (None, 15, 60, 60, 8)    224       \n",
      " ibuted)                                                         \n",
      "                                                                 \n",
      " time_distributed_1 (TimeDis  (None, 15, 60, 60, 16)   1168      \n",
      " tributed)                                                       \n",
      "                                                                 \n",
      " time_distributed_2 (TimeDis  (None, 15, 30, 30, 16)   0         \n",
      " tributed)                                                       \n",
      "                                                                 \n",
      " time_distributed_3 (TimeDis  (None, 15, 30, 30, 32)   4640      \n",
      " tributed)                                                       \n",
      "                                                                 \n",
      " time_distributed_4 (TimeDis  (None, 15, 15, 15, 32)   0         \n",
      " tributed)                                                       \n",
      "                                                                 \n",
      " time_distributed_5 (TimeDis  (None, 15, 15, 15, 64)   8256      \n",
      " tributed)                                                       \n",
      "                                                                 \n",
      " time_distributed_6 (TimeDis  (None, 15, 7, 7, 64)     0         \n",
      " tributed)                                                       \n",
      "                                                                 \n",
      " time_distributed_7 (TimeDis  (None, 15, 7, 7, 64)     256       \n",
      " tributed)                                                       \n",
      "                                                                 \n",
      " dropout_2 (Dropout)         (None, 15, 7, 7, 64)      0         \n",
      "                                                                 \n",
      " time_distributed_8 (TimeDis  (None, 15, 3136)         0         \n",
      " tributed)                                                       \n",
      "                                                                 \n",
      " dense_3 (Dense)             (None, 15, 128)           401536    \n",
      "                                                                 \n",
      " dropout_3 (Dropout)         (None, 15, 128)           0         \n",
      "                                                                 \n",
      " dense_4 (Dense)             (None, 15, 64)            8256      \n",
      "                                                                 \n",
      " dropout_4 (Dropout)         (None, 15, 64)            0         \n",
      "                                                                 \n",
      " gru (GRU)                   (None, 128)               74112     \n",
      "                                                                 \n",
      " dense_5 (Dense)             (None, 5)                 645       \n",
      "                                                                 \n",
      "=================================================================\n",
      "Total params: 499,093\n",
      "Trainable params: 498,965\n",
      "Non-trainable params: 128\n",
      "_________________________________________________________________\n",
      "None\n"
     ]
    }
   ],
   "source": [
    "# compiling model\n",
    "from tensorflow.keras.optimizers import Adam\n",
    "\n",
    "optimiser =Adam(0.001) #write your optimizer\n",
    "model_cnn_rnn.compile(optimizer=optimiser, loss='categorical_crossentropy', metrics=['categorical_accuracy'])\n",
    "print (model_cnn_rnn.summary())"
   ]
  },
  {
   "cell_type": "code",
   "execution_count": 18,
   "metadata": {},
   "outputs": [],
   "source": [
    "train_generator = generator(train_path, train_doc, batch_size)\n",
    "val_generator = generator(val_path, val_doc, batch_size)"
   ]
  },
  {
   "cell_type": "code",
   "execution_count": 19,
   "metadata": {},
   "outputs": [
    {
     "name": "stdout",
     "output_type": "stream",
     "text": [
      "WARNING:tensorflow:`period` argument is deprecated. Please use `save_freq` to specify the frequency in number of batches seen.\n",
      "WARNING:tensorflow:`epsilon` argument is deprecated and will be removed, use `min_delta` instead.\n"
     ]
    }
   ],
   "source": [
    "model_name = 'model_cnn_rnn' + '_' + str(curr_dt_time).replace(' ','').replace(':','_') + '/'\n",
    "    \n",
    "if not os.path.exists(model_name):\n",
    "    os.mkdir(model_name)\n",
    "        \n",
    "filepath = model_name + 'model-{epoch:05d}-{loss:.5f}-{categorical_accuracy:.5f}-{val_loss:.5f}-{val_categorical_accuracy:.5f}.h5'\n",
    "\n",
    "checkpoint = ModelCheckpoint(filepath, monitor='val_loss', verbose=1, save_best_only=False, save_weights_only=False, mode='auto', period=1)\n",
    "\n",
    "LR = ReduceLROnPlateau(monitor='val_loss', factor=0.01, patience=5, cooldown=4, verbose=1,mode='auto',epsilon=0.0001)# write the REducelronplateau code here\n",
    "callbacks_list = [checkpoint, LR]"
   ]
  },
  {
   "cell_type": "markdown",
   "metadata": {},
   "source": [
    "The `steps_per_epoch` and `validation_steps` are used by `fit_generator` to decide the number of next() calls it need to make."
   ]
  },
  {
   "cell_type": "code",
   "execution_count": 20,
   "metadata": {},
   "outputs": [],
   "source": [
    "if (num_train_sequences%batch_size) == 0:\n",
    "    steps_per_epoch = int(num_train_sequences/batch_size)\n",
    "else:\n",
    "    steps_per_epoch = (num_train_sequences//batch_size) + 1\n",
    "\n",
    "if (num_val_sequences%batch_size) == 0:\n",
    "    validation_steps = int(num_val_sequences/batch_size)\n",
    "else:\n",
    "    validation_steps = (num_val_sequences//batch_size) + 1"
   ]
  },
  {
   "cell_type": "code",
   "execution_count": 21,
   "metadata": {},
   "outputs": [
    {
     "name": "stdout",
     "output_type": "stream",
     "text": [
      "Source path =  datasets/Project_data/train ; batch size = 20\n"
     ]
    },
    {
     "name": "stderr",
     "output_type": "stream",
     "text": [
      "/tmp/ipykernel_744/1509877065.py:1: UserWarning: `Model.fit_generator` is deprecated and will be removed in a future version. Please use `Model.fit`, which supports generators.\n",
      "  history = model_cnn_rnn.fit_generator(train_generator, steps_per_epoch=steps_per_epoch, epochs=num_epochs, verbose=1,\n"
     ]
    },
    {
     "name": "stdout",
     "output_type": "stream",
     "text": [
      "Epoch 1/15\n",
      "34/34 [==============================] - ETA: 0s - loss: 1.3151 - categorical_accuracy: 0.4162Source path =  datasets/Project_data/val ; batch size = 20\n",
      "\n",
      "Epoch 00001: saving model to model_cnn_rnn_2022-06-1308_14_09.307415/model-00001-1.31513-0.41618-1.58255-0.25000.h5\n",
      "34/34 [==============================] - 87s 3s/step - loss: 1.3151 - categorical_accuracy: 0.4162 - val_loss: 1.5825 - val_categorical_accuracy: 0.2500 - lr: 0.0010\n",
      "Epoch 2/15\n",
      "34/34 [==============================] - ETA: 0s - loss: 1.2330 - categorical_accuracy: 0.5392\n",
      "Epoch 00002: saving model to model_cnn_rnn_2022-06-1308_14_09.307415/model-00002-1.23297-0.53922-1.55260-0.27000.h5\n",
      "34/34 [==============================] - 25s 762ms/step - loss: 1.2330 - categorical_accuracy: 0.5392 - val_loss: 1.5526 - val_categorical_accuracy: 0.2700 - lr: 0.0010\n",
      "Epoch 3/15\n",
      "34/34 [==============================] - ETA: 0s - loss: 1.3644 - categorical_accuracy: 0.4706\n",
      "Epoch 00003: saving model to model_cnn_rnn_2022-06-1308_14_09.307415/model-00003-1.36439-0.47059-1.52456-0.34000.h5\n",
      "34/34 [==============================] - 24s 732ms/step - loss: 1.3644 - categorical_accuracy: 0.4706 - val_loss: 1.5246 - val_categorical_accuracy: 0.3400 - lr: 0.0010\n",
      "Epoch 4/15\n",
      "34/34 [==============================] - ETA: 0s - loss: 1.1021 - categorical_accuracy: 0.5980\n",
      "Epoch 00004: saving model to model_cnn_rnn_2022-06-1308_14_09.307415/model-00004-1.10211-0.59804-1.49536-0.51000.h5\n",
      "34/34 [==============================] - 26s 788ms/step - loss: 1.1021 - categorical_accuracy: 0.5980 - val_loss: 1.4954 - val_categorical_accuracy: 0.5100 - lr: 0.0010\n",
      "Epoch 5/15\n",
      "34/34 [==============================] - ETA: 0s - loss: 1.2766 - categorical_accuracy: 0.4804\n",
      "Epoch 00005: saving model to model_cnn_rnn_2022-06-1308_14_09.307415/model-00005-1.27663-0.48039-1.54393-0.31000.h5\n",
      "34/34 [==============================] - 25s 766ms/step - loss: 1.2766 - categorical_accuracy: 0.4804 - val_loss: 1.5439 - val_categorical_accuracy: 0.3100 - lr: 0.0010\n",
      "Epoch 6/15\n",
      "34/34 [==============================] - ETA: 0s - loss: 1.2081 - categorical_accuracy: 0.4706\n",
      "Epoch 00006: saving model to model_cnn_rnn_2022-06-1308_14_09.307415/model-00006-1.20812-0.47059-1.42012-0.54000.h5\n",
      "34/34 [==============================] - 26s 785ms/step - loss: 1.2081 - categorical_accuracy: 0.4706 - val_loss: 1.4201 - val_categorical_accuracy: 0.5400 - lr: 0.0010\n",
      "Epoch 7/15\n",
      "34/34 [==============================] - ETA: 0s - loss: 1.1405 - categorical_accuracy: 0.5392\n",
      "Epoch 00007: saving model to model_cnn_rnn_2022-06-1308_14_09.307415/model-00007-1.14052-0.53922-1.32687-0.53000.h5\n",
      "34/34 [==============================] - 25s 760ms/step - loss: 1.1405 - categorical_accuracy: 0.5392 - val_loss: 1.3269 - val_categorical_accuracy: 0.5300 - lr: 0.0010\n",
      "Epoch 8/15\n",
      "34/34 [==============================] - ETA: 0s - loss: 0.9016 - categorical_accuracy: 0.7255\n",
      "Epoch 00008: saving model to model_cnn_rnn_2022-06-1308_14_09.307415/model-00008-0.90157-0.72549-1.20635-0.54000.h5\n",
      "34/34 [==============================] - 26s 781ms/step - loss: 0.9016 - categorical_accuracy: 0.7255 - val_loss: 1.2064 - val_categorical_accuracy: 0.5400 - lr: 0.0010\n",
      "Epoch 9/15\n",
      "34/34 [==============================] - ETA: 0s - loss: 0.8846 - categorical_accuracy: 0.6667\n",
      "Epoch 00009: saving model to model_cnn_rnn_2022-06-1308_14_09.307415/model-00009-0.88462-0.66667-1.54906-0.36000.h5\n",
      "34/34 [==============================] - 25s 764ms/step - loss: 0.8846 - categorical_accuracy: 0.6667 - val_loss: 1.5491 - val_categorical_accuracy: 0.3600 - lr: 0.0010\n",
      "Epoch 10/15\n",
      "34/34 [==============================] - ETA: 0s - loss: 0.8703 - categorical_accuracy: 0.6373\n",
      "Epoch 00010: saving model to model_cnn_rnn_2022-06-1308_14_09.307415/model-00010-0.87029-0.63725-1.26274-0.52000.h5\n",
      "34/34 [==============================] - 27s 823ms/step - loss: 0.8703 - categorical_accuracy: 0.6373 - val_loss: 1.2627 - val_categorical_accuracy: 0.5200 - lr: 0.0010\n",
      "Epoch 11/15\n",
      "34/34 [==============================] - ETA: 0s - loss: 0.9674 - categorical_accuracy: 0.6569\n",
      "Epoch 00011: saving model to model_cnn_rnn_2022-06-1308_14_09.307415/model-00011-0.96738-0.65686-1.17467-0.51000.h5\n",
      "34/34 [==============================] - 26s 783ms/step - loss: 0.9674 - categorical_accuracy: 0.6569 - val_loss: 1.1747 - val_categorical_accuracy: 0.5100 - lr: 0.0010\n",
      "Epoch 12/15\n",
      "34/34 [==============================] - ETA: 0s - loss: 0.7031 - categorical_accuracy: 0.7353\n",
      "Epoch 00012: saving model to model_cnn_rnn_2022-06-1308_14_09.307415/model-00012-0.70310-0.73529-0.84432-0.76000.h5\n",
      "34/34 [==============================] - 25s 743ms/step - loss: 0.7031 - categorical_accuracy: 0.7353 - val_loss: 0.8443 - val_categorical_accuracy: 0.7600 - lr: 0.0010\n",
      "Epoch 13/15\n",
      "34/34 [==============================] - ETA: 0s - loss: 0.8614 - categorical_accuracy: 0.6667\n",
      "Epoch 00013: saving model to model_cnn_rnn_2022-06-1308_14_09.307415/model-00013-0.86137-0.66667-1.47698-0.49000.h5\n",
      "34/34 [==============================] - 27s 828ms/step - loss: 0.8614 - categorical_accuracy: 0.6667 - val_loss: 1.4770 - val_categorical_accuracy: 0.4900 - lr: 0.0010\n",
      "Epoch 14/15\n",
      "34/34 [==============================] - ETA: 0s - loss: 0.7420 - categorical_accuracy: 0.7255\n",
      "Epoch 00014: saving model to model_cnn_rnn_2022-06-1308_14_09.307415/model-00014-0.74198-0.72549-1.25967-0.51000.h5\n",
      "34/34 [==============================] - 25s 762ms/step - loss: 0.7420 - categorical_accuracy: 0.7255 - val_loss: 1.2597 - val_categorical_accuracy: 0.5100 - lr: 0.0010\n",
      "Epoch 15/15\n",
      "34/34 [==============================] - ETA: 0s - loss: 0.4538 - categorical_accuracy: 0.8725\n",
      "Epoch 00015: saving model to model_cnn_rnn_2022-06-1308_14_09.307415/model-00015-0.45384-0.87255-1.28125-0.54000.h5\n",
      "34/34 [==============================] - 26s 795ms/step - loss: 0.4538 - categorical_accuracy: 0.8725 - val_loss: 1.2813 - val_categorical_accuracy: 0.5400 - lr: 0.0010\n"
     ]
    }
   ],
   "source": [
    "history = model_cnn_rnn.fit_generator(train_generator, steps_per_epoch=steps_per_epoch, epochs=num_epochs, verbose=1, \n",
    "                    callbacks=callbacks_list, validation_data=val_generator, \n",
    "                    validation_steps=validation_steps, class_weight=None, workers=1, initial_epoch=0)"
   ]
  },
  {
   "cell_type": "code",
   "execution_count": 22,
   "metadata": {},
   "outputs": [
    {
     "data": {
      "image/png": "[encoded data removed]",
      "text/plain": [
       "<Figure size 1080x288 with 2 Axes>"
      ]
     },
     "metadata": {
      "needs_background": "light"
     },
     "output_type": "display_data"
    }
   ],
   "source": [
    "plot(history)"
   ]
  },
  {
   "cell_type": "markdown",
   "metadata": {},
   "source": [
    "As we can observe that the training accuracy is around 84% and validation accuracy is around 54%. There is overfitting in the model. But we will try to reduce overfitting and also try to check whether augmentation increases the accuracy or not."
   ]
  },
  {
   "cell_type": "markdown",
   "metadata": {},
   "source": [
    "## Model 3 - Conv-3d (With augmentation)"
   ]
  },
  {
   "cell_type": "code",
   "execution_count": 23,
   "metadata": {},
   "outputs": [],
   "source": [
    "# Generatot Function \n",
    "def generator_aug(source_path, folder_list, batch_size):\n",
    "    print( 'Source path = ', source_path, '; batch size =', batch_size)\n",
    "    img_idx =[x for x in range(0, 30,2)]  #create a list of image numbers you want to use for a particular video\n",
    "    while True:\n",
    "        t = np.random.permutation(folder_list)\n",
    "        num_batches = len(folder_list)//batch_size # calculate the number of batches\n",
    "        for batch in range(num_batches): # we iterate over the number of batches\n",
    "            batch_data = np.zeros((batch_size,15,120,120,3)) # x is the number of images you use for each video, (y,z) is the final size of the input images and 3 is the number of channels RGB\n",
    "            batch_labels = np.zeros((batch_size,5)) # batch_labels is the one hot representation of the output\n",
    "            batch_data_aug = np.zeros((batch_size,15,120,120,3))\n",
    "            for folder in range(batch_size): # iterate over the batch_size\n",
    "                imgs = os.listdir(source_path+'/'+ t[folder + (batch*batch_size)].split(';')[0]) # read all the images in the folder\n",
    "                for idx,item in enumerate(img_idx): #  Iterate iver the frames/images of a folder to read them in\n",
    "                    image = imread(source_path+'/'+ t[folder + (batch*batch_size)].strip().split(';')[0]+'/'+imgs[item]).astype(np.float32)\n",
    "                    image = imread(source_path+'/'+ t[folder + (batch*batch_size)].strip().split(';')[0]+'/'+imgs[item]).astype(np.float32)\n",
    "                    image_resized=resize(image,(120,120,3))\n",
    "\n",
    "                    #normalizing the images\n",
    "                    batch_data[folder,idx,:,:,0] = (image_resized[:,:,0])/255\n",
    "                    batch_data[folder,idx,:,:,1] = (image_resized[:,:,1])/255\n",
    "                    batch_data[folder,idx,:,:,2] = (image_resized[:,:,2])/255\n",
    "\n",
    "                    shifted = cv2.warpAffine(image, \n",
    "                                             np.float32([[1, 0, np.random.randint(-30,30)],[0, 1, np.random.randint(-30,30)]]), \n",
    "                                            (image.shape[1], image.shape[0]))\n",
    "\n",
    "                    gray = cv2.cvtColor(shifted,cv2.COLOR_BGR2GRAY)\n",
    "\n",
    "                    x0, y0 = np.argwhere(gray > 0).min(axis=0)\n",
    "                    x1, y1 = np.argwhere(gray > 0).max(axis=0) \n",
    "                    # cropping the images to have the targeted gestures and remove the noise from the images.\n",
    "                    cropped=shifted[x0:x1,y0:y1,:]\n",
    "\n",
    "                    image_resized=resize(image, (120,120))\n",
    "\n",
    "\n",
    "                    batch_data_aug[folder,idx,:,:,0] = (image_resized[:,:,0])/255\n",
    "                    batch_data_aug[folder,idx,:,:,1] = (image_resized[:,:,1])/255\n",
    "                    batch_data_aug[folder,idx,:,:,2] = (image_resized[:,:,2])/255\n",
    "\n",
    "\n",
    "                batch_labels[folder, int(t[folder + (batch*batch_size)].strip().split(';')[2])] = 1\n",
    "                batch_data=np.concatenate([batch_data,batch_data_aug])\n",
    "                batch_labels=np.concatenate([batch_labels,batch_labels])\n",
    "            yield batch_data, batch_labels #you yield the batch_data and the batch_labels, remember what does yield do\n",
    "            \n",
    "        # write the code for the remaining data points which are left after full batches\n",
    "        if (len(folder_list) != batch_size*num_batches):\n",
    "            batch_size = len(folder_list) - (batch_size*num_batches)\n",
    "            yield batch_data, batch_labels"
   ]
  },
  {
   "cell_type": "code",
   "execution_count": 24,
   "metadata": {},
   "outputs": [
    {
     "name": "stdout",
     "output_type": "stream",
     "text": [
      "# training sequences = 663\n",
      "# validation sequences = 100\n",
      "# epochs = 15\n"
     ]
    }
   ],
   "source": [
    "# to create a new different folder for different model\n",
    "curr_dt_time = datetime.datetime.now()\n",
    "train_path = 'datasets/Project_data/train'\n",
    "val_path = 'datasets/Project_data/val'\n",
    "num_train_sequences = len(train_doc)\n",
    "print('# training sequences =', num_train_sequences)\n",
    "num_val_sequences = len(val_doc)\n",
    "print('# validation sequences =', num_val_sequences)\n",
    "num_epochs = 15# choose the number of epochs\n",
    "print ('# epochs =', num_epochs)"
   ]
  },
  {
   "cell_type": "code",
   "execution_count": 25,
   "metadata": {},
   "outputs": [],
   "source": [
    "from keras.models import Sequential, Model\n",
    "from keras.layers import Dense, GRU, Flatten, TimeDistributed, Flatten, BatchNormalization, Activation, Dropout,LSTM\n",
    "from keras.layers.convolutional import Conv3D,Conv2D, MaxPooling3D,MaxPooling2D\n",
    "from keras.callbacks import ModelCheckpoint, ReduceLROnPlateau\n",
    "from keras import optimizers\n",
    "from keras.layers.recurrent import LSTM, GRU\n",
    "\n",
    "# Input\n",
    "# input_shape = (frame, height, width, no. of chaanels)\n",
    "input_shape=(15,120,120,3)\n",
    "\n",
    "model3d_aug = Sequential()\n",
    "model3d_aug.add(Conv3D(8,kernel_size=(5,5,5),input_shape=input_shape,padding='same'))\n",
    "model3d_aug.add(Activation('relu'))\n",
    "model3d_aug.add(BatchNormalization())\n",
    "\n",
    "model3d_aug.add(Conv3D(16,kernel_size=(3,3,3),padding='same'))\n",
    "model3d_aug.add(Activation('relu'))\n",
    "model3d_aug.add(BatchNormalization())\n",
    "model3d_aug.add(MaxPooling3D(pool_size=(2,2,2)))\n",
    "\n",
    "model3d_aug.add(Conv3D(32,kernel_size=(1,3,3),padding='same'))\n",
    "model3d_aug.add(Activation('relu'))\n",
    "model3d_aug.add(BatchNormalization())\n",
    "model3d_aug.add(MaxPooling3D(pool_size=(2,2,2)))\n",
    "\n",
    "model3d_aug.add(Dropout(0.25))\n",
    "\n",
    "\n",
    "model3d_aug.add(Flatten())\n",
    "model3d_aug.add(Dense(128, activation='relu'))\n",
    "model3d_aug.add(Dropout(0.2))\n",
    "model3d_aug.add(Dense(64, activation='relu'))\n",
    "#softmax layer\n",
    "model3d_aug.add(Dense(5, activation='softmax'))"
   ]
  },
  {
   "cell_type": "code",
   "execution_count": 26,
   "metadata": {},
   "outputs": [
    {
     "name": "stdout",
     "output_type": "stream",
     "text": [
      "Model: \"sequential_2\"\n",
      "_________________________________________________________________\n",
      " Layer (type)                Output Shape              Param #   \n",
      "=================================================================\n",
      " conv3d_3 (Conv3D)           (None, 15, 120, 120, 8)   3008      \n",
      "                                                                 \n",
      " activation_3 (Activation)   (None, 15, 120, 120, 8)   0         \n",
      "                                                                 \n",
      " batch_normalization_4 (Batc  (None, 15, 120, 120, 8)  32        \n",
      " hNormalization)                                                 \n",
      "                                                                 \n",
      " conv3d_4 (Conv3D)           (None, 15, 120, 120, 16)  3472      \n",
      "                                                                 \n",
      " activation_4 (Activation)   (None, 15, 120, 120, 16)  0         \n",
      "                                                                 \n",
      " batch_normalization_5 (Batc  (None, 15, 120, 120, 16)  64       \n",
      " hNormalization)                                                 \n",
      "                                                                 \n",
      " max_pooling3d_2 (MaxPooling  (None, 7, 60, 60, 16)    0         \n",
      " 3D)                                                             \n",
      "                                                                 \n",
      " conv3d_5 (Conv3D)           (None, 7, 60, 60, 32)     4640      \n",
      "                                                                 \n",
      " activation_5 (Activation)   (None, 7, 60, 60, 32)     0         \n",
      "                                                                 \n",
      " batch_normalization_6 (Batc  (None, 7, 60, 60, 32)    128       \n",
      " hNormalization)                                                 \n",
      "                                                                 \n",
      " max_pooling3d_3 (MaxPooling  (None, 3, 30, 30, 32)    0         \n",
      " 3D)                                                             \n",
      "                                                                 \n",
      " dropout_5 (Dropout)         (None, 3, 30, 30, 32)     0         \n",
      "                                                                 \n",
      " flatten_2 (Flatten)         (None, 86400)             0         \n",
      "                                                                 \n",
      " dense_6 (Dense)             (None, 128)               11059328  \n",
      "                                                                 \n",
      " dropout_6 (Dropout)         (None, 128)               0         \n",
      "                                                                 \n",
      " dense_7 (Dense)             (None, 64)                8256      \n",
      "                                                                 \n",
      " dense_8 (Dense)             (None, 5)                 325       \n",
      "                                                                 \n",
      "=================================================================\n",
      "Total params: 11,079,253\n",
      "Trainable params: 11,079,141\n",
      "Non-trainable params: 112\n",
      "_________________________________________________________________\n",
      "None\n"
     ]
    }
   ],
   "source": [
    "# compiling model\n",
    "from tensorflow.keras.optimizers import Adam\n",
    "\n",
    "optimiser =Adam(0.001) #write your optimizer\n",
    "model3d_aug.compile(optimizer=optimiser, loss='categorical_crossentropy', metrics=['categorical_accuracy'])\n",
    "print (model3d_aug.summary())"
   ]
  },
  {
   "cell_type": "code",
   "execution_count": 27,
   "metadata": {},
   "outputs": [],
   "source": [
    "train_generator = generator(train_path, train_doc, batch_size)\n",
    "val_generator = generator(val_path, val_doc, batch_size)"
   ]
  },
  {
   "cell_type": "code",
   "execution_count": 28,
   "metadata": {},
   "outputs": [
    {
     "name": "stdout",
     "output_type": "stream",
     "text": [
      "WARNING:tensorflow:`period` argument is deprecated. Please use `save_freq` to specify the frequency in number of batches seen.\n",
      "WARNING:tensorflow:`epsilon` argument is deprecated and will be removed, use `min_delta` instead.\n"
     ]
    }
   ],
   "source": [
    "model_name = 'model_cnn3d_aug' + '_' + str(curr_dt_time).replace(' ','').replace(':','_') + '/'\n",
    "    \n",
    "if not os.path.exists(model_name):\n",
    "    os.mkdir(model_name)\n",
    "        \n",
    "filepath = model_name + 'model-{epoch:05d}-{loss:.5f}-{categorical_accuracy:.5f}-{val_loss:.5f}-{val_categorical_accuracy:.5f}.h5'\n",
    "\n",
    "checkpoint = ModelCheckpoint(filepath, monitor='val_loss', verbose=1, save_best_only=False, save_weights_only=False, mode='auto', period=1)\n",
    "\n",
    "LR = ReduceLROnPlateau(monitor='val_loss', factor=0.01, patience=5, cooldown=4, verbose=1,mode='auto',epsilon=0.0001)# write the REducelronplateau code here\n",
    "callbacks_list = [checkpoint, LR]"
   ]
  },
  {
   "cell_type": "markdown",
   "metadata": {},
   "source": [
    "The `steps_per_epoch` and `validation_steps` are used by `fit_generator` to decide the number of next() calls it need to make."
   ]
  },
  {
   "cell_type": "code",
   "execution_count": 29,
   "metadata": {},
   "outputs": [],
   "source": [
    "if (num_train_sequences%batch_size) == 0:\n",
    "    steps_per_epoch = int(num_train_sequences/batch_size)\n",
    "else:\n",
    "    steps_per_epoch = (num_train_sequences//batch_size) + 1\n",
    "\n",
    "if (num_val_sequences%batch_size) == 0:\n",
    "    validation_steps = int(num_val_sequences/batch_size)\n",
    "else:\n",
    "    validation_steps = (num_val_sequences//batch_size) + 1"
   ]
  },
  {
   "cell_type": "code",
   "execution_count": 30,
   "metadata": {},
   "outputs": [
    {
     "name": "stdout",
     "output_type": "stream",
     "text": [
      "Source path =  datasets/Project_data/train ; batch size = 20\n"
     ]
    },
    {
     "name": "stderr",
     "output_type": "stream",
     "text": [
      "/tmp/ipykernel_744/1513450782.py:1: UserWarning: `Model.fit_generator` is deprecated and will be removed in a future version. Please use `Model.fit`, which supports generators.\n",
      "  history = model3d_aug.fit_generator(train_generator, steps_per_epoch=steps_per_epoch, epochs=num_epochs, verbose=1,\n"
     ]
    },
    {
     "name": "stdout",
     "output_type": "stream",
     "text": [
      "Epoch 1/15\n",
      "34/34 [==============================] - ETA: 0s - loss: 7.0296 - categorical_accuracy: 0.3309Source path =  datasets/Project_data/val ; batch size = 20\n",
      "\n",
      "Epoch 00001: saving model to model_cnn3d_aug_2022-06-1308_21_38.909409/model-00001-7.02955-0.33088-9.30419-0.23000.h5\n",
      "34/34 [==============================] - 86s 3s/step - loss: 7.0296 - categorical_accuracy: 0.3309 - val_loss: 9.3042 - val_categorical_accuracy: 0.2300 - lr: 0.0010\n",
      "Epoch 2/15\n",
      "34/34 [==============================] - ETA: 0s - loss: 2.9870 - categorical_accuracy: 0.3922\n",
      "Epoch 00002: saving model to model_cnn3d_aug_2022-06-1308_21_38.909409/model-00002-2.98698-0.39216-11.42406-0.26000.h5\n",
      "34/34 [==============================] - 24s 739ms/step - loss: 2.9870 - categorical_accuracy: 0.3922 - val_loss: 11.4241 - val_categorical_accuracy: 0.2600 - lr: 0.0010\n",
      "Epoch 3/15\n",
      "34/34 [==============================] - ETA: 0s - loss: 3.1909 - categorical_accuracy: 0.4020\n",
      "Epoch 00003: saving model to model_cnn3d_aug_2022-06-1308_21_38.909409/model-00003-3.19086-0.40196-18.28387-0.27000.h5\n",
      "34/34 [==============================] - 27s 828ms/step - loss: 3.1909 - categorical_accuracy: 0.4020 - val_loss: 18.2839 - val_categorical_accuracy: 0.2700 - lr: 0.0010\n",
      "Epoch 4/15\n",
      "34/34 [==============================] - ETA: 0s - loss: 7.3068 - categorical_accuracy: 0.3333\n",
      "Epoch 00004: saving model to model_cnn3d_aug_2022-06-1308_21_38.909409/model-00004-7.30677-0.33333-2.27816-0.24000.h5\n",
      "34/34 [==============================] - 27s 822ms/step - loss: 7.3068 - categorical_accuracy: 0.3333 - val_loss: 2.2782 - val_categorical_accuracy: 0.2400 - lr: 0.0010\n",
      "Epoch 5/15\n",
      "34/34 [==============================] - ETA: 0s - loss: 2.8207 - categorical_accuracy: 0.2647\n",
      "Epoch 00005: saving model to model_cnn3d_aug_2022-06-1308_21_38.909409/model-00005-2.82072-0.26471-4.33674-0.26000.h5\n",
      "34/34 [==============================] - 27s 806ms/step - loss: 2.8207 - categorical_accuracy: 0.2647 - val_loss: 4.3367 - val_categorical_accuracy: 0.2600 - lr: 0.0010\n",
      "Epoch 6/15\n",
      "34/34 [==============================] - ETA: 0s - loss: 2.5968 - categorical_accuracy: 0.2647\n",
      "Epoch 00006: saving model to model_cnn3d_aug_2022-06-1308_21_38.909409/model-00006-2.59678-0.26471-2.88730-0.24000.h5\n",
      "34/34 [==============================] - 26s 786ms/step - loss: 2.5968 - categorical_accuracy: 0.2647 - val_loss: 2.8873 - val_categorical_accuracy: 0.2400 - lr: 0.0010\n",
      "Epoch 7/15\n",
      "34/34 [==============================] - ETA: 0s - loss: 1.8801 - categorical_accuracy: 0.1765\n",
      "Epoch 00007: saving model to model_cnn3d_aug_2022-06-1308_21_38.909409/model-00007-1.88006-0.17647-2.72164-0.15000.h5\n",
      "34/34 [==============================] - 26s 795ms/step - loss: 1.8801 - categorical_accuracy: 0.1765 - val_loss: 2.7216 - val_categorical_accuracy: 0.1500 - lr: 0.0010\n",
      "Epoch 8/15\n",
      "34/34 [==============================] - ETA: 0s - loss: 1.5680 - categorical_accuracy: 0.2451\n",
      "Epoch 00008: saving model to model_cnn3d_aug_2022-06-1308_21_38.909409/model-00008-1.56796-0.24510-2.58763-0.25000.h5\n",
      "34/34 [==============================] - 27s 822ms/step - loss: 1.5680 - categorical_accuracy: 0.2451 - val_loss: 2.5876 - val_categorical_accuracy: 0.2500 - lr: 0.0010\n",
      "Epoch 9/15\n",
      "34/34 [==============================] - ETA: 0s - loss: 1.7161 - categorical_accuracy: 0.2745\n",
      "Epoch 00009: saving model to model_cnn3d_aug_2022-06-1308_21_38.909409/model-00009-1.71609-0.27451-3.70852-0.26000.h5\n",
      "\n",
      "Epoch 00009: ReduceLROnPlateau reducing learning rate to 1.0000000474974514e-05.\n",
      "34/34 [==============================] - 26s 775ms/step - loss: 1.7161 - categorical_accuracy: 0.2745 - val_loss: 3.7085 - val_categorical_accuracy: 0.2600 - lr: 0.0010\n",
      "Epoch 10/15\n",
      "34/34 [==============================] - ETA: 0s - loss: 1.6858 - categorical_accuracy: 0.2255\n",
      "Epoch 00010: saving model to model_cnn3d_aug_2022-06-1308_21_38.909409/model-00010-1.68581-0.22549-2.58240-0.29000.h5\n",
      "34/34 [==============================] - 26s 793ms/step - loss: 1.6858 - categorical_accuracy: 0.2255 - val_loss: 2.5824 - val_categorical_accuracy: 0.2900 - lr: 1.0000e-05\n",
      "Epoch 11/15\n",
      "34/34 [==============================] - ETA: 0s - loss: 1.7983 - categorical_accuracy: 0.2549\n",
      "Epoch 00011: saving model to model_cnn3d_aug_2022-06-1308_21_38.909409/model-00011-1.79827-0.25490-2.17222-0.22000.h5\n",
      "34/34 [==============================] - 26s 785ms/step - loss: 1.7983 - categorical_accuracy: 0.2549 - val_loss: 2.1722 - val_categorical_accuracy: 0.2200 - lr: 1.0000e-05\n",
      "Epoch 12/15\n",
      "34/34 [==============================] - ETA: 0s - loss: 1.6603 - categorical_accuracy: 0.2255\n",
      "Epoch 00012: saving model to model_cnn3d_aug_2022-06-1308_21_38.909409/model-00012-1.66027-0.22549-1.98873-0.22000.h5\n",
      "34/34 [==============================] - 27s 807ms/step - loss: 1.6603 - categorical_accuracy: 0.2255 - val_loss: 1.9887 - val_categorical_accuracy: 0.2200 - lr: 1.0000e-05\n",
      "Epoch 13/15\n",
      "34/34 [==============================] - ETA: 0s - loss: 1.9199 - categorical_accuracy: 0.1961\n",
      "Epoch 00013: saving model to model_cnn3d_aug_2022-06-1308_21_38.909409/model-00013-1.91994-0.19608-1.92730-0.26000.h5\n",
      "34/34 [==============================] - 26s 783ms/step - loss: 1.9199 - categorical_accuracy: 0.1961 - val_loss: 1.9273 - val_categorical_accuracy: 0.2600 - lr: 1.0000e-05\n",
      "Epoch 14/15\n",
      "34/34 [==============================] - ETA: 0s - loss: 1.7648 - categorical_accuracy: 0.1667\n",
      "Epoch 00014: saving model to model_cnn3d_aug_2022-06-1308_21_38.909409/model-00014-1.76477-0.16667-1.96529-0.19000.h5\n",
      "34/34 [==============================] - 26s 801ms/step - loss: 1.7648 - categorical_accuracy: 0.1667 - val_loss: 1.9653 - val_categorical_accuracy: 0.1900 - lr: 1.0000e-05\n",
      "Epoch 15/15\n",
      "34/34 [==============================] - ETA: 0s - loss: 1.6903 - categorical_accuracy: 0.2549\n",
      "Epoch 00015: saving model to model_cnn3d_aug_2022-06-1308_21_38.909409/model-00015-1.69026-0.25490-1.91298-0.22000.h5\n",
      "34/34 [==============================] - 26s 777ms/step - loss: 1.6903 - categorical_accuracy: 0.2549 - val_loss: 1.9130 - val_categorical_accuracy: 0.2200 - lr: 1.0000e-05\n"
     ]
    }
   ],
   "source": [
    "history = model3d_aug.fit_generator(train_generator, steps_per_epoch=steps_per_epoch, epochs=num_epochs, verbose=1, \n",
    "                    callbacks=callbacks_list, validation_data=val_generator, \n",
    "                    validation_steps=validation_steps, class_weight=None, workers=1, initial_epoch=0)"
   ]
  },
  {
   "cell_type": "code",
   "execution_count": 31,
   "metadata": {},
   "outputs": [
    {
     "data": {
      "image/png": "[encoded data removed]",
      "text/plain": [
       "<Figure size 1080x288 with 2 Axes>"
      ]
     },
     "metadata": {
      "needs_background": "light"
     },
     "output_type": "display_data"
    }
   ],
   "source": [
    "plot(history)"
   ]
  },
  {
   "cell_type": "markdown",
   "metadata": {},
   "source": [
    "We can see that while using augmentation it reduces the accuracy of training and validation slightly. We can say that, in our case adding augmentation, didn't affect any accuracy."
   ]
  },
  {
   "cell_type": "markdown",
   "metadata": {},
   "source": [
    "## Model 4 - CNN + RNN (With augmentation)"
   ]
  },
  {
   "cell_type": "code",
   "execution_count": 32,
   "metadata": {},
   "outputs": [
    {
     "name": "stdout",
     "output_type": "stream",
     "text": [
      "# training sequences = 663\n",
      "# validation sequences = 100\n",
      "# epochs = 15\n"
     ]
    }
   ],
   "source": [
    "# to create a new different folder for different model\n",
    "curr_dt_time = datetime.datetime.now()\n",
    "train_path = 'datasets/Project_data/train'\n",
    "val_path = 'datasets/Project_data/val'\n",
    "num_train_sequences = len(train_doc)\n",
    "print('# training sequences =', num_train_sequences)\n",
    "num_val_sequences = len(val_doc)\n",
    "print('# validation sequences =', num_val_sequences)\n",
    "num_epochs = 15# choose the number of epochs\n",
    "print ('# epochs =', num_epochs)"
   ]
  },
  {
   "cell_type": "code",
   "execution_count": 33,
   "metadata": {},
   "outputs": [],
   "source": [
    "from keras.models import Sequential, Model\n",
    "from keras.layers import Dense, GRU, Flatten, TimeDistributed, Flatten, BatchNormalization, Activation, Dropout,LSTM\n",
    "from keras.layers.convolutional import Conv3D,Conv2D, MaxPooling3D,MaxPooling2D\n",
    "from keras.callbacks import ModelCheckpoint, ReduceLROnPlateau\n",
    "from keras import optimizers\n",
    "from keras.layers.recurrent import LSTM, GRU\n",
    "\n",
    "# Input\n",
    "# input_shape = (frame, height, width, no. of chaanels)\n",
    "input_shape=(15,120,120,3)\n",
    "\n",
    "model_cnn_rnn_aug = Sequential()\n",
    "\n",
    "model_cnn_rnn_aug.add(TimeDistributed(Conv2D(8, (3, 3), strides=(2, 2),activation='relu', padding='same'), input_shape=input_shape))\n",
    "model_cnn_rnn_aug.add(TimeDistributed(Conv2D(16, (3,3),padding='same', activation='relu')))\n",
    "model_cnn_rnn_aug.add(TimeDistributed(BatchNormalization()))\n",
    "model_cnn_rnn_aug.add(TimeDistributed(MaxPooling2D((2, 2), strides=(2, 2))))\n",
    "\n",
    "model_cnn_rnn_aug.add(TimeDistributed(Conv2D(32, (3,3),padding='same', activation='relu')))\n",
    "model_cnn_rnn_aug.add(TimeDistributed(BatchNormalization()))\n",
    "model_cnn_rnn_aug.add(TimeDistributed(MaxPooling2D((2, 2), strides=(2, 2))))\n",
    "\n",
    "model_cnn_rnn_aug.add(TimeDistributed(Conv2D(64, (2,2),padding='same', activation='relu')))\n",
    "model_cnn_rnn_aug.add(TimeDistributed(BatchNormalization()))\n",
    "model_cnn_rnn_aug.add(TimeDistributed(MaxPooling2D((2, 2), strides=(2, 2))))\n",
    "\n",
    "\n",
    "model_cnn_rnn_aug.add(Dropout(0.25))\n",
    "model_cnn_rnn_aug.add(TimeDistributed(Flatten()))\n",
    "model_cnn_rnn_aug.add(Dense(128, activation='relu'))\n",
    "model_cnn_rnn_aug.add(Dropout(0.2))\n",
    "model_cnn_rnn_aug.add(Dense(64, activation='relu'))\n",
    "model_cnn_rnn_aug.add(Dropout(0.2))\n",
    "\n",
    "model_cnn_rnn_aug.add(GRU(128, return_sequences=False))\n",
    "model_cnn_rnn_aug.add(Dense(5, activation='softmax')) # using Softmax as last layer"
   ]
  },
  {
   "cell_type": "code",
   "execution_count": 34,
   "metadata": {},
   "outputs": [
    {
     "name": "stdout",
     "output_type": "stream",
     "text": [
      "Model: \"sequential_3\"\n",
      "_________________________________________________________________\n",
      " Layer (type)                Output Shape              Param #   \n",
      "=================================================================\n",
      " time_distributed_9 (TimeDis  (None, 15, 60, 60, 8)    224       \n",
      " tributed)                                                       \n",
      "                                                                 \n",
      " time_distributed_10 (TimeDi  (None, 15, 60, 60, 16)   1168      \n",
      " stributed)                                                      \n",
      "                                                                 \n",
      " time_distributed_11 (TimeDi  (None, 15, 60, 60, 16)   64        \n",
      " stributed)                                                      \n",
      "                                                                 \n",
      " time_distributed_12 (TimeDi  (None, 15, 30, 30, 16)   0         \n",
      " stributed)                                                      \n",
      "                                                                 \n",
      " time_distributed_13 (TimeDi  (None, 15, 30, 30, 32)   4640      \n",
      " stributed)                                                      \n",
      "                                                                 \n",
      " time_distributed_14 (TimeDi  (None, 15, 30, 30, 32)   128       \n",
      " stributed)                                                      \n",
      "                                                                 \n",
      " time_distributed_15 (TimeDi  (None, 15, 15, 15, 32)   0         \n",
      " stributed)                                                      \n",
      "                                                                 \n",
      " time_distributed_16 (TimeDi  (None, 15, 15, 15, 64)   8256      \n",
      " stributed)                                                      \n",
      "                                                                 \n",
      " time_distributed_17 (TimeDi  (None, 15, 15, 15, 64)   256       \n",
      " stributed)                                                      \n",
      "                                                                 \n",
      " time_distributed_18 (TimeDi  (None, 15, 7, 7, 64)     0         \n",
      " stributed)                                                      \n",
      "                                                                 \n",
      " dropout_7 (Dropout)         (None, 15, 7, 7, 64)      0         \n",
      "                                                                 \n",
      " time_distributed_19 (TimeDi  (None, 15, 3136)         0         \n",
      " stributed)                                                      \n",
      "                                                                 \n",
      " dense_9 (Dense)             (None, 15, 128)           401536    \n",
      "                                                                 \n",
      " dropout_8 (Dropout)         (None, 15, 128)           0         \n",
      "                                                                 \n",
      " dense_10 (Dense)            (None, 15, 64)            8256      \n",
      "                                                                 \n",
      " dropout_9 (Dropout)         (None, 15, 64)            0         \n",
      "                                                                 \n",
      " gru_1 (GRU)                 (None, 128)               74112     \n",
      "                                                                 \n",
      " dense_11 (Dense)            (None, 5)                 645       \n",
      "                                                                 \n",
      "=================================================================\n",
      "Total params: 499,285\n",
      "Trainable params: 499,061\n",
      "Non-trainable params: 224\n",
      "_________________________________________________________________\n",
      "None\n"
     ]
    }
   ],
   "source": [
    "# compiling model\n",
    "from tensorflow.keras.optimizers import Adam\n",
    "\n",
    "optimiser =Adam(0.001) #write your optimizer\n",
    "model_cnn_rnn_aug.compile(optimizer=optimiser, loss='categorical_crossentropy', metrics=['categorical_accuracy'])\n",
    "print (model_cnn_rnn_aug.summary())"
   ]
  },
  {
   "cell_type": "code",
   "execution_count": 35,
   "metadata": {},
   "outputs": [],
   "source": [
    "train_generator = generator(train_path, train_doc, batch_size)\n",
    "val_generator = generator(val_path, val_doc, batch_size)"
   ]
  },
  {
   "cell_type": "code",
   "execution_count": 36,
   "metadata": {},
   "outputs": [
    {
     "name": "stdout",
     "output_type": "stream",
     "text": [
      "WARNING:tensorflow:`period` argument is deprecated. Please use `save_freq` to specify the frequency in number of batches seen.\n",
      "WARNING:tensorflow:`epsilon` argument is deprecated and will be removed, use `min_delta` instead.\n"
     ]
    }
   ],
   "source": [
    "model_name = 'model_cnn_rnn_aug' + '_' + str(curr_dt_time).replace(' ','').replace(':','_') + '/'\n",
    "    \n",
    "if not os.path.exists(model_name):\n",
    "    os.mkdir(model_name)\n",
    "        \n",
    "filepath = model_name + 'model-{epoch:05d}-{loss:.5f}-{categorical_accuracy:.5f}-{val_loss:.5f}-{val_categorical_accuracy:.5f}.h5'\n",
    "\n",
    "checkpoint = ModelCheckpoint(filepath, monitor='val_loss', verbose=1, save_best_only=False, save_weights_only=False, mode='auto', period=1)\n",
    "\n",
    "LR = ReduceLROnPlateau(monitor='val_loss', factor=0.01, patience=5, cooldown=4, verbose=1,mode='auto',epsilon=0.0001)# write the REducelronplateau code here\n",
    "callbacks_list = [checkpoint, LR]"
   ]
  },
  {
   "cell_type": "markdown",
   "metadata": {},
   "source": [
    "The `steps_per_epoch` and `validation_steps` are used by `fit_generator` to decide the number of next() calls it need to make."
   ]
  },
  {
   "cell_type": "code",
   "execution_count": 37,
   "metadata": {},
   "outputs": [],
   "source": [
    "if (num_train_sequences%batch_size) == 0:\n",
    "    steps_per_epoch = int(num_train_sequences/batch_size)\n",
    "else:\n",
    "    steps_per_epoch = (num_train_sequences//batch_size) + 1\n",
    "\n",
    "if (num_val_sequences%batch_size) == 0:\n",
    "    validation_steps = int(num_val_sequences/batch_size)\n",
    "else:\n",
    "    validation_steps = (num_val_sequences//batch_size) + 1"
   ]
  },
  {
   "cell_type": "code",
   "execution_count": 38,
   "metadata": {},
   "outputs": [
    {
     "name": "stdout",
     "output_type": "stream",
     "text": [
      "Source path =  datasets/Project_data/train ; batch size = 20\n"
     ]
    },
    {
     "name": "stderr",
     "output_type": "stream",
     "text": [
      "/tmp/ipykernel_744/1272798878.py:1: UserWarning: `Model.fit_generator` is deprecated and will be removed in a future version. Please use `Model.fit`, which supports generators.\n",
      "  history = model_cnn_rnn_aug.fit_generator(train_generator, steps_per_epoch=steps_per_epoch, epochs=num_epochs, verbose=1,\n"
     ]
    },
    {
     "name": "stdout",
     "output_type": "stream",
     "text": [
      "Epoch 1/15\n",
      "34/34 [==============================] - ETA: 0s - loss: 1.4866 - categorical_accuracy: 0.3809Source path =  datasets/Project_data/val ; batch size = 20\n",
      "\n",
      "Epoch 00001: saving model to model_cnn_rnn_aug_2022-06-1308_29_15.544158/model-00001-1.48664-0.38088-1.58680-0.29000.h5\n",
      "34/34 [==============================] - 88s 3s/step - loss: 1.4866 - categorical_accuracy: 0.3809 - val_loss: 1.5868 - val_categorical_accuracy: 0.2900 - lr: 0.0010\n",
      "Epoch 2/15\n",
      "34/34 [==============================] - ETA: 0s - loss: 1.3239 - categorical_accuracy: 0.4902\n",
      "Epoch 00002: saving model to model_cnn_rnn_aug_2022-06-1308_29_15.544158/model-00002-1.32390-0.49020-2.43832-0.22000.h5\n",
      "34/34 [==============================] - 27s 815ms/step - loss: 1.3239 - categorical_accuracy: 0.4902 - val_loss: 2.4383 - val_categorical_accuracy: 0.2200 - lr: 0.0010\n",
      "Epoch 3/15\n",
      "34/34 [==============================] - ETA: 0s - loss: 1.5576 - categorical_accuracy: 0.4216\n",
      "Epoch 00003: saving model to model_cnn_rnn_aug_2022-06-1308_29_15.544158/model-00003-1.55756-0.42157-2.15660-0.16000.h5\n",
      "34/34 [==============================] - 26s 792ms/step - loss: 1.5576 - categorical_accuracy: 0.4216 - val_loss: 2.1566 - val_categorical_accuracy: 0.1600 - lr: 0.0010\n",
      "Epoch 4/15\n",
      "34/34 [==============================] - ETA: 0s - loss: 1.4205 - categorical_accuracy: 0.3922\n",
      "Epoch 00004: saving model to model_cnn_rnn_aug_2022-06-1308_29_15.544158/model-00004-1.42052-0.39216-2.24267-0.29000.h5\n",
      "34/34 [==============================] - 25s 748ms/step - loss: 1.4205 - categorical_accuracy: 0.3922 - val_loss: 2.2427 - val_categorical_accuracy: 0.2900 - lr: 0.0010\n",
      "Epoch 5/15\n",
      "34/34 [==============================] - ETA: 0s - loss: 1.1718 - categorical_accuracy: 0.4804\n",
      "Epoch 00005: saving model to model_cnn_rnn_aug_2022-06-1308_29_15.544158/model-00005-1.17177-0.48039-1.72511-0.36000.h5\n",
      "34/34 [==============================] - 25s 771ms/step - loss: 1.1718 - categorical_accuracy: 0.4804 - val_loss: 1.7251 - val_categorical_accuracy: 0.3600 - lr: 0.0010\n",
      "Epoch 6/15\n",
      "34/34 [==============================] - ETA: 0s - loss: 1.2795 - categorical_accuracy: 0.5392\n",
      "Epoch 00006: saving model to model_cnn_rnn_aug_2022-06-1308_29_15.544158/model-00006-1.27954-0.53922-1.73699-0.31000.h5\n",
      "\n",
      "Epoch 00006: ReduceLROnPlateau reducing learning rate to 1.0000000474974514e-05.\n",
      "34/34 [==============================] - 26s 780ms/step - loss: 1.2795 - categorical_accuracy: 0.5392 - val_loss: 1.7370 - val_categorical_accuracy: 0.3100 - lr: 0.0010\n",
      "Epoch 7/15\n",
      "34/34 [==============================] - ETA: 0s - loss: 1.4133 - categorical_accuracy: 0.4804\n",
      "Epoch 00007: saving model to model_cnn_rnn_aug_2022-06-1308_29_15.544158/model-00007-1.41330-0.48039-1.80565-0.33000.h5\n",
      "34/34 [==============================] - 25s 768ms/step - loss: 1.4133 - categorical_accuracy: 0.4804 - val_loss: 1.8056 - val_categorical_accuracy: 0.3300 - lr: 1.0000e-05\n",
      "Epoch 8/15\n",
      "34/34 [==============================] - ETA: 0s - loss: 1.4133 - categorical_accuracy: 0.4804\n",
      "Epoch 00008: saving model to model_cnn_rnn_aug_2022-06-1308_29_15.544158/model-00008-1.41335-0.48039-1.98614-0.31000.h5\n",
      "34/34 [==============================] - 25s 757ms/step - loss: 1.4133 - categorical_accuracy: 0.4804 - val_loss: 1.9861 - val_categorical_accuracy: 0.3100 - lr: 1.0000e-05\n",
      "Epoch 9/15\n",
      "34/34 [==============================] - ETA: 0s - loss: 1.2090 - categorical_accuracy: 0.5196\n",
      "Epoch 00009: saving model to model_cnn_rnn_aug_2022-06-1308_29_15.544158/model-00009-1.20899-0.51961-1.67762-0.47000.h5\n",
      "34/34 [==============================] - 25s 749ms/step - loss: 1.2090 - categorical_accuracy: 0.5196 - val_loss: 1.6776 - val_categorical_accuracy: 0.4700 - lr: 1.0000e-05\n",
      "Epoch 10/15\n",
      "34/34 [==============================] - ETA: 0s - loss: 1.0303 - categorical_accuracy: 0.5784\n",
      "Epoch 00010: saving model to model_cnn_rnn_aug_2022-06-1308_29_15.544158/model-00010-1.03031-0.57843-1.83859-0.39000.h5\n",
      "34/34 [==============================] - 26s 780ms/step - loss: 1.0303 - categorical_accuracy: 0.5784 - val_loss: 1.8386 - val_categorical_accuracy: 0.3900 - lr: 1.0000e-05\n",
      "Epoch 11/15\n",
      "34/34 [==============================] - ETA: 0s - loss: 0.9431 - categorical_accuracy: 0.6471\n",
      "Epoch 00011: saving model to model_cnn_rnn_aug_2022-06-1308_29_15.544158/model-00011-0.94315-0.64706-1.65500-0.45000.h5\n",
      "34/34 [==============================] - 25s 746ms/step - loss: 0.9431 - categorical_accuracy: 0.6471 - val_loss: 1.6550 - val_categorical_accuracy: 0.4500 - lr: 1.0000e-05\n",
      "Epoch 12/15\n",
      "34/34 [==============================] - ETA: 0s - loss: 1.0964 - categorical_accuracy: 0.5882\n",
      "Epoch 00012: saving model to model_cnn_rnn_aug_2022-06-1308_29_15.544158/model-00012-1.09638-0.58824-1.54482-0.51000.h5\n",
      "34/34 [==============================] - 26s 795ms/step - loss: 1.0964 - categorical_accuracy: 0.5882 - val_loss: 1.5448 - val_categorical_accuracy: 0.5100 - lr: 1.0000e-05\n",
      "Epoch 13/15\n",
      "34/34 [==============================] - ETA: 0s - loss: 1.2172 - categorical_accuracy: 0.5882\n",
      "Epoch 00013: saving model to model_cnn_rnn_aug_2022-06-1308_29_15.544158/model-00013-1.21716-0.58824-1.40717-0.46000.h5\n",
      "34/34 [==============================] - 25s 770ms/step - loss: 1.2172 - categorical_accuracy: 0.5882 - val_loss: 1.4072 - val_categorical_accuracy: 0.4600 - lr: 1.0000e-05\n",
      "Epoch 14/15\n",
      "34/34 [==============================] - ETA: 0s - loss: 0.9795 - categorical_accuracy: 0.6275\n",
      "Epoch 00014: saving model to model_cnn_rnn_aug_2022-06-1308_29_15.544158/model-00014-0.97951-0.62745-1.39496-0.50000.h5\n",
      "34/34 [==============================] - 25s 744ms/step - loss: 0.9795 - categorical_accuracy: 0.6275 - val_loss: 1.3950 - val_categorical_accuracy: 0.5000 - lr: 1.0000e-05\n",
      "Epoch 15/15\n",
      "34/34 [==============================] - ETA: 0s - loss: 0.9663 - categorical_accuracy: 0.6176\n",
      "Epoch 00015: saving model to model_cnn_rnn_aug_2022-06-1308_29_15.544158/model-00015-0.96630-0.61765-1.40801-0.43000.h5\n",
      "34/34 [==============================] - 25s 763ms/step - loss: 0.9663 - categorical_accuracy: 0.6176 - val_loss: 1.4080 - val_categorical_accuracy: 0.4300 - lr: 1.0000e-05\n"
     ]
    }
   ],
   "source": [
    "history = model_cnn_rnn_aug.fit_generator(train_generator, steps_per_epoch=steps_per_epoch, epochs=num_epochs, verbose=1, \n",
    "                    callbacks=callbacks_list, validation_data=val_generator, \n",
    "                    validation_steps=validation_steps, class_weight=None, workers=1, initial_epoch=0)"
   ]
  },
  {
   "cell_type": "code",
   "execution_count": 39,
   "metadata": {},
   "outputs": [
    {
     "data": {
      "image/png": "[encoded data removed]",
      "text/plain": [
       "<Figure size 1080x288 with 2 Axes>"
      ]
     },
     "metadata": {
      "needs_background": "light"
     },
     "output_type": "display_data"
    }
   ],
   "source": [
    "plot(history)"
   ]
  },
  {
   "cell_type": "markdown",
   "metadata": {},
   "source": [
    "We can see that overfitting in CNN+RNN(without augmentation) has been overcomed with the help of augmentation. The accuracy of validation is decreased slightly from around 52% to 43% but the training accuracy is decreased drastically from 84% to around 60%."
   ]
  },
  {
   "cell_type": "markdown",
   "metadata": {},
   "source": [
    "## Conclusion"
   ]
  },
  {
   "cell_type": "markdown",
   "metadata": {},
   "source": [
    "Following are the conclusions:\n",
    "\n",
    "- Initially we build a simple **Conv-3D** model, we got an training accuracy of around 32% and validation accuracy of around 31%. There is no clear sign of overfitting.\n",
    "- We have seen that, with the help of **data augmentation method**, there was no improvement in **Conv-3D** model compared to non augmented data. \n",
    "- Secondly, we build a **CNN-RNN** model, we got a training accuracy of around 80% and validation accuracy of around 54%. It is a clear sign of overfitting.\n",
    "- We have seen that, with the help of **data augmentation method**, there was improvement in **CNN-RNN** model compared to non augmented data. In our case it reduced the overfitting, but decreased our training accuracy(approx. 60%) and validation accuracy(approx. 43%)\n",
    "\n",
    "We can say that in our casa the CNN-RNN model with data augmentation gives better results compare to other models."
   ]
  }
 ],
 "metadata": {
  "kernelspec": {
   "display_name": "Python 3",
   "language": "python",
   "name": "python3"
  },
  "language_info": {
   "codemirror_mode": {
    "name": "ipython",
    "version": 3
   },
   "file_extension": ".py",
   "mimetype": "text/x-python",
   "name": "python",
   "nbconvert_exporter": "python",
   "pygments_lexer": "ipython3",
   "version": "3.7.6"
  }
 },
 "nbformat": 4,
 "nbformat_minor": 5
}
